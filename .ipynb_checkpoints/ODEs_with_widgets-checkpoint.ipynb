{
 "cells": [
  {
   "cell_type": "markdown",
   "metadata": {},
   "source": [
    "# SDOF system with energy dissipation based upon snab-back mechanisms"
   ]
  },
  {
   "cell_type": "code",
   "execution_count": 31,
   "metadata": {},
   "outputs": [],
   "source": [
    "import numpy as np\n",
    "from scipy.integrate import odeint\n",
    "from matplotlib import pyplot as plt\n",
    "from ipywidgets import interact, interactive, fixed, interact_manual\n",
    "import ipywidgets as widgets"
   ]
  },
  {
   "cell_type": "markdown",
   "metadata": {},
   "source": [
    "## Simple sdof oscillator\n",
    "\n",
    "Consider the following oscillator\n",
    "\n",
    "$$M\\ddot U(t)+C\\dot U(t)+KU(t)=F_0S_{\\omega t}$$"
   ]
  },
  {
   "cell_type": "markdown",
   "metadata": {},
   "source": [
    "Perform a change of variables to convert the 2-nd order ODE into a system of first order ODEs:\n",
    "\n",
    "$$\\dot U(t)= V(t)$$\n",
    "\n",
    "$$\\dot V(t)=\\frac1M \\lbrack F_0S_{\\omega t}-CV(t)-KU(t)\\rbrack$$\n",
    "\n",
    "and place these ODEs into a callable function:"
   ]
  },
  {
   "cell_type": "code",
   "execution_count": 32,
   "metadata": {},
   "outputs": [],
   "source": [
    "def model(z , t , M , C , K , f_0 , ome):\n",
    "    \"\"\"\n",
    "    z would be the solution vector\n",
    "    dzdt stores the system of ODEs ready for integration.\n",
    "    \"\"\"\n",
    "    U = z[0]\n",
    "    V = z[1]\n",
    "    f_t  = force(f_0 , ome , t)\n",
    "    dUdt = V\n",
    "    dVdt = (1/M)*(f_t - C*V - K*U)\n",
    "    dzdt = [dUdt , dVdt]\n",
    "    \n",
    "    return dzdt"
   ]
  },
  {
   "cell_type": "code",
   "execution_count": 33,
   "metadata": {},
   "outputs": [],
   "source": [
    "def force(f_0 , ome , t):\n",
    "    \"\"\"\n",
    "    \n",
    "    \"\"\"\n",
    "    f_t = f_0*np.sin(ome*t)\n",
    "    return f_t"
   ]
  },
  {
   "cell_type": "code",
   "execution_count": 34,
   "metadata": {},
   "outputs": [],
   "source": [
    "def sdof_integrate(M , K , ome , C , f_0):\n",
    "    \"\"\"\n",
    "    M   :Mass\n",
    "    C   :Dashpot coefficient\n",
    "    K   :Stiffness\n",
    "    f_0 :Amplitude of the applied force\n",
    "    ome :Frequency of applied force\n",
    "    \n",
    "    \"\"\"\n",
    "\n",
    "    y0 = [0.0 , 0.0]                 # Initial conditions\n",
    "    t  = np.linspace(0 , 20 , 1001)    #Time span\n",
    "    sol  = odeint(model , y0 , t , args=(M , C , K , f_0 , ome))\n",
    "    \n",
    "    U_ref = sol[:, 0]\n",
    "    V_ref = sol[: , 1]\n",
    "#\n",
    "    fig1 = plt.figure(figsize=(12,6))\n",
    "    axes1= fig1.add_axes([0.1,0.1,0.8,0.8] )\n",
    "    axes1.set_ylabel('$U$')\n",
    "    axes1.set_xlabel('$t[s]$')\n",
    "    axes1.plot(t, U_ref )\n",
    "    plt.grid()\n",
    "    \n",
    "    F_r = K*U_ref + C*V_ref\n",
    "    F_s = K*U_ref\n",
    "    F_v = C*V_ref\n",
    "        \n",
    "    fig2 = plt.figure(figsize=(12,6))\n",
    "    axes2= fig2.add_axes([0.1,0.1,0.8,0.8] )\n",
    "    axes2.set_ylabel('$U$')\n",
    "    axes2.set_xlabel('$t[s]$')\n",
    "    axes2.plot(U_ref , F_r )    \n",
    "    axes2.plot(U_ref , F_s )\n",
    "    axes2.plot(U_ref , F_v )\n",
    "    plt.grid()\n",
    "        \n",
    "    return"
   ]
  },
  {
   "cell_type": "code",
   "execution_count": 35,
   "metadata": {},
   "outputs": [
    {
     "data": {
      "application/vnd.jupyter.widget-view+json": {
       "model_id": "044a13222fc940d782d1b951747ae52a",
       "version_major": 2,
       "version_minor": 0
      },
      "text/plain": [
       "interactive(children=(IntSlider(value=5, description='M', max=10, min=1), IntSlider(value=60, description='K',…"
      ]
     },
     "metadata": {},
     "output_type": "display_data"
    },
    {
     "data": {
      "text/plain": [
       "<function __main__.sdof_integrate(M, K, ome, C, f_0)>"
      ]
     },
     "execution_count": 35,
     "metadata": {},
     "output_type": "execute_result"
    }
   ],
   "source": [
    "interact(sdof_integrate , M = (1, 10) , K = (20 , 100) , ome =(0.5 , 30.0) , C = (0.1 , 0.5) , f_0 = (1.0 , 10.0))"
   ]
  },
  {
   "cell_type": "markdown",
   "metadata": {},
   "source": [
    "## Misses truss with spring"
   ]
  },
  {
   "cell_type": "code",
   "execution_count": 36,
   "metadata": {},
   "outputs": [],
   "source": [
    "def misses(F_0 , fac , lmda , x):\n",
    "    \"\"\"\n",
    "    Constitutive law for the Misses truss, This is piecewise\n",
    "    continuous function.\n",
    "    F_0 : force amplitude\n",
    "    fac : number of wavelengths at which the constant slope phase starts\n",
    "    lmda: Wavelength\n",
    "    x   : Displacement\n",
    "    \"\"\"\n",
    "    dx = lmda/100\n",
    "    df = F_0*np.sin((2*np.pi/lmda)*dx)\n",
    "    k = df/dx\n",
    "    if x > -fac*lmda and x < fac*lmda:\n",
    "        F = F_0*np.sin((2*np.pi/lmda)*x)\n",
    "    else:\n",
    "        if x<= -fac*lmda:\n",
    "            F = k*(x + fac*lmda)\n",
    "        else:\n",
    "            F = k*(x - fac*lmda)\n",
    "    return F"
   ]
  },
  {
   "cell_type": "code",
   "execution_count": 37,
   "metadata": {},
   "outputs": [],
   "source": [
    "def mis_dis(F_0 , fac , lmda):\n",
    "#    F_0   = 10.0    #Force amplitude for the Misses truss\n",
    "#    fac   = 1.0    #Piecewise continous at fac*lambda\n",
    "#    lmda  = 0.5   #Wavelength for the Misses truss F-d relationship\n",
    "#\n",
    "    x  = np.linspace(-2*lmda , 2*lmda, 1001) #Assumed displacements span\n",
    "    n = len(x)\n",
    "    FM = np.zeros(n)\n",
    "#\n",
    "    for i in range(n):\n",
    "        FM[i] = misses(F_0 , fac , lmda , x[i])\n",
    "        \n",
    "        \n",
    "    fig3 = plt.figure(figsize=(12,6))\n",
    "    axes3= fig3.add_axes([0.1,0.1,0.8,0.8] )\n",
    "    axes3.set_ylabel('$U$')\n",
    "    axes3.set_xlabel('$t[s]$')\n",
    "    axes3.plot(x , FM )    \n",
    "    plt.grid()\n",
    "    return"
   ]
  },
  {
   "cell_type": "code",
   "execution_count": 42,
   "metadata": {},
   "outputs": [
    {
     "data": {
      "application/vnd.jupyter.widget-view+json": {
       "model_id": "2e30686c40594d17a4c5b32fb4d1a6cf",
       "version_major": 2,
       "version_minor": 0
      },
      "text/plain": [
       "interactive(children=(IntSlider(value=5, description='F_0', max=10, min=1), FloatSlider(value=0.75, descriptio…"
      ]
     },
     "metadata": {},
     "output_type": "display_data"
    },
    {
     "data": {
      "text/plain": [
       "<function __main__.mis_dis(F_0, fac, lmda)>"
      ]
     },
     "execution_count": 42,
     "metadata": {},
     "output_type": "execute_result"
    }
   ],
   "source": [
    "interact(mis_dis , F_0 = (1, 10) , fac = (0.5 , 1.0) , lmda =(0.1 , 0.5))"
   ]
  },
  {
   "cell_type": "markdown",
   "metadata": {},
   "source": [
    "## System with  added dissipation device"
   ]
  },
  {
   "cell_type": "code",
   "execution_count": 43,
   "metadata": {},
   "outputs": [],
   "source": [
    "def dissip_device(z , t , M , C , K , f_0 , ome , m , c , k , F_0 , fac , lmda):\n",
    "    \"\"\"\n",
    "    z would be the solution vector\n",
    "    dzdt stores the system of ODEs ready for integration.\n",
    "    \"\"\"\n",
    "    U = z[0]\n",
    "    V = z[1]\n",
    "    u = z[2]\n",
    "    v = z[3]\n",
    "#\n",
    "    F_AP  = force(f_0 , ome , t)\n",
    "    F_VM  = misses(F_0 , fac , lmda ,U-u)\n",
    "#\n",
    "    dUdt = V\n",
    "    dVdt = (1/M)*(F_AP - C*V - K*U-F_VM)\n",
    "    dudt = v\n",
    "    dvdt = (1/m)*(F_VM - k*u - c*v)\n",
    "#\n",
    "    dzdt = [dUdt , dVdt , dudt , dvdt]\n",
    "    \n",
    "    return dzdt"
   ]
  },
  {
   "cell_type": "code",
   "execution_count": 44,
   "metadata": {},
   "outputs": [],
   "source": [
    "def device_integrate(M , K , ome , C , f_0 , c , k , F_0 , fac , lmda):\n",
    "    \"\"\"\n",
    "    M   :Mass\n",
    "    C   :Dashpot coefficient\n",
    "    K   :Stiffness\n",
    "    f_0 :Amplitude of the applied force\n",
    "    ome :Frequency of applied force\n",
    "    \n",
    "    \"\"\"\n",
    "    m   = 1.0e-3 \n",
    "\n",
    "    y0 = [0.0 , 0.0 , 0.0 , 0.0]                  # Initial conditions\n",
    "    t  = np.linspace(0 , 20 , 1001)    #Time span\n",
    "    sol  = odeint(dissip_device , y0 , t , args =(M , C , K , f_0 , ome , m , c , k , F_0 , fac , lmda))\n",
    "    \n",
    "    U_dev = sol[: , 0] \n",
    "    V_dev = sol[: , 1]\n",
    "    u_dev = sol[: , 2]\n",
    "    v_dev = sol[: , 3]\n",
    "    F_r = K*U_dev + C*V_dev + k*u_dev + c*v_dev\n",
    "    F_s = K*U_dev + k*u_dev\n",
    "    F_v = C*V_dev + c*v_dev\n",
    "#\n",
    "    fig4 = plt.figure(figsize=(12,6))\n",
    "    axes4= fig4.add_axes([0.1,0.1,0.8,0.8] )\n",
    "    axes4.set_ylabel('$U$')\n",
    "    axes4.set_xlabel('$t[s]$')\n",
    "    axes4.plot(t, U_dev )\n",
    "    plt.grid()\n",
    "    \n",
    "    fig5 = plt.figure(figsize=(12,6))\n",
    "    axes5= fig5.add_axes([0.1,0.1,0.8,0.8] )\n",
    "    axes5.set_ylabel('$U$')\n",
    "    axes5.set_xlabel('$t[s]$')\n",
    "    axes5.plot(U_dev , F_r )\n",
    "    axes5.plot(U_dev , F_s )\n",
    "    axes5.plot(U_dev , F_v)\n",
    "    plt.grid()\n",
    "\n",
    "\n",
    "        \n",
    "    return"
   ]
  },
  {
   "cell_type": "code",
   "execution_count": 45,
   "metadata": {},
   "outputs": [
    {
     "data": {
      "application/vnd.jupyter.widget-view+json": {
       "model_id": "c25c8bc3d6204b9faf41447ace2183da",
       "version_major": 2,
       "version_minor": 0
      },
      "text/plain": [
       "interactive(children=(IntSlider(value=5, description='M', max=10, min=1), IntSlider(value=60, description='K',…"
      ]
     },
     "metadata": {},
     "output_type": "display_data"
    },
    {
     "data": {
      "text/plain": [
       "<function __main__.device_integrate(M, K, ome, C, f_0, c, k, F_0, fac, lmda)>"
      ]
     },
     "execution_count": 45,
     "metadata": {},
     "output_type": "execute_result"
    }
   ],
   "source": [
    "interact(device_integrate , M = (1, 10) , K = (20 , 100) , ome =(0.5 , 30) , C = (0.1 , 0.5) , f_0 = (1.0 , 10.0) ,\n",
    "         c =(0.0 , 0.5) , k=(20.0 , 100.0) , F_0 = (1.0, 10.0) , fac = (0.5 , 1.0) , lmda =(0.1 , 1.0))"
   ]
  },
  {
   "cell_type": "code",
   "execution_count": 30,
   "metadata": {},
   "outputs": [
    {
     "data": {
      "text/html": [
       "\n",
       "<link href='http://fonts.googleapis.com/css?family=Fenix' rel='stylesheet' type='text/css'>\n",
       "<link href='http://fonts.googleapis.com/css?family=Alegreya+Sans:100,300,400,500,700,800,900,100italic,300italic,400italic,500italic,700italic,800italic,900italic' rel='stylesheet' type='text/css'>\n",
       "<link href='http://fonts.googleapis.com/css?family=Source+Code+Pro:300,400' rel='stylesheet' type='text/css'>\n",
       "\n",
       "<style>\n",
       "\n",
       "/*\n",
       "Template for Notebooks for ModelaciÃ³n computacional.\n",
       "\n",
       "Based on Lorena Barba template available at:\n",
       "\n",
       "    https://github.com/barbagroup/AeroPython/blob/master/styles/custom.css\n",
       "*/\n",
       "\n",
       "/* Fonts */\n",
       "@font-face {\n",
       "font-family: \"Computer Modern\";\n",
       "src: url('http://mirrors.ctan.org/fonts/cm-unicode/fonts/otf/cmunss.otf');\n",
       "}\n",
       "\n",
       "/* Text */\n",
       "div.cell{\n",
       "width:800px;\n",
       "margin-left:16% !important;\n",
       "margin-right:auto;\n",
       "}\n",
       "h1 {\n",
       "font-family: 'Alegreya Sans', sans-serif;\n",
       "}\n",
       "h2 {\n",
       "font-family: 'Fenix', serif;\n",
       "}\n",
       "h3{\n",
       "font-family: 'Fenix', serif;\n",
       "margin-top:12px;\n",
       "margin-bottom: 3px;\n",
       "}\n",
       "h4{\n",
       "font-family: 'Fenix', serif;\n",
       "}\n",
       "h5 {\n",
       "font-family: 'Alegreya Sans', sans-serif;\n",
       "}\t\n",
       "div.text_cell_render{\n",
       "font-family: 'Alegreya Sans',Computer Modern, \"Helvetica Neue\", Arial, Helvetica, Geneva, sans-serif;\n",
       "line-height: 135%;\n",
       "font-size: 120%;\n",
       "width:600px;\n",
       "margin-left:auto;\n",
       "margin-right:auto;\n",
       "}\n",
       ".CodeMirror{\n",
       "font-family: \"Source Code Pro\";\n",
       "font-size: 90%;\n",
       "}\n",
       "/* .prompt{\n",
       "display: None;\n",
       "}*/\n",
       ".text_cell_render h1 {\n",
       "font-weight: 200;\n",
       "font-size: 50pt;\n",
       "line-height: 100%;\n",
       "color:#CD2305;\n",
       "margin-bottom: 0.5em;\n",
       "margin-top: 0.5em;\n",
       "display: block;\n",
       "}\t\n",
       ".text_cell_render h5 {\n",
       "font-weight: 300;\n",
       "font-size: 16pt;\n",
       "color: #CD2305;\n",
       "font-style: italic;\n",
       "margin-bottom: .5em;\n",
       "margin-top: 0.5em;\n",
       "display: block;\n",
       "}\n",
       ".warning{\n",
       "color: rgb( 240, 20, 20 )\n",
       "}\n",
       "</style>\n",
       "\n",
       "<script>\n",
       "/* Equations */\n",
       "\n",
       "MathJax.Hub.Config({\n",
       "TeX: {\n",
       "extensions: [\"AMSmath.js\"]\n",
       "},\n",
       "tex2jax: {\n",
       "inlineMath: [ ['$','$'], [\"\\\\(\",\"\\\\)\"] ],\n",
       "displayMath: [ ['$$','$$'], [\"\\\\[\",\"\\\\]\"] ]\n",
       "},\n",
       "displayAlign: 'center', // Change this to 'center' to center equations.\n",
       "\"HTML-CSS\": {\n",
       "styles: {'.MathJax_Display': {\"margin\": 4}}\n",
       "}\n",
       "});\n",
       "</script>\n",
       "\n",
       "\n"
      ],
      "text/plain": [
       "<IPython.core.display.HTML object>"
      ]
     },
     "execution_count": 30,
     "metadata": {},
     "output_type": "execute_result"
    }
   ],
   "source": [
    "from IPython.core.display import HTML\n",
    "def css_styling():\n",
    "    styles = open('./nb_style.css', 'r').read()\n",
    "    return HTML(styles)\n",
    "css_styling()"
   ]
  },
  {
   "cell_type": "code",
   "execution_count": null,
   "metadata": {},
   "outputs": [],
   "source": []
  }
 ],
 "metadata": {
  "anaconda-cloud": {},
  "kernelspec": {
   "display_name": "Python 3",
   "language": "python",
   "name": "python3"
  },
  "language_info": {
   "codemirror_mode": {
    "name": "ipython",
    "version": 3
   },
   "file_extension": ".py",
   "mimetype": "text/x-python",
   "name": "python",
   "nbconvert_exporter": "python",
   "pygments_lexer": "ipython3",
   "version": "3.7.3"
  }
 },
 "nbformat": 4,
 "nbformat_minor": 2
}
